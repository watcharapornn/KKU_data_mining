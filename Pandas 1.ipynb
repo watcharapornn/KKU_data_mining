{
  "nbformat": 4,
  "nbformat_minor": 0,
  "metadata": {
    "colab": {
      "name": "ยินดีต้อนรับสู่ Colaboratory",
      "provenance": [],
      "collapsed_sections": [],
      "include_colab_link": true
    },
    "kernelspec": {
      "display_name": "Python 3",
      "name": "python3"
    }
  },
  "cells": [
    {
      "cell_type": "markdown",
      "metadata": {
        "id": "view-in-github",
        "colab_type": "text"
      },
      "source": [
        "<a href=\"https://colab.research.google.com/github/watcharapornn/KKU_data_mining/blob/master/Pandas%201.ipynb\" target=\"_parent\"><img src=\"https://colab.research.google.com/assets/colab-badge.svg\" alt=\"Open In Colab\"/></a>"
      ]
    },
    {
      "cell_type": "markdown",
      "metadata": {
        "id": "FKXaGyBIp68Z",
        "colab_type": "text"
      },
      "source": [
        "#Method 2.1 (raplace with unknown value"
      ]
    },
    {
      "cell_type": "markdown",
      "metadata": {
        "id": "5UQKwGOaqL9z",
        "colab_type": "text"
      },
      "source": [
        "##Method 3 "
      ]
    },
    {
      "cell_type": "markdown",
      "metadata": {
        "id": "CZcJb8UssUts",
        "colab_type": "text"
      },
      "source": [
        "###เติมค่าที่ป"
      ]
    },
    {
      "cell_type": "code",
      "metadata": {
        "id": "4lfdOHtfpxzj",
        "colab_type": "code",
        "colab": {}
      },
      "source": [
        "new_table=w_restaurant_df[['name','city_name','avg_price']]\n",
        "new_table"
      ],
      "execution_count": null,
      "outputs": []
    },
    {
      "cell_type": "markdown",
      "metadata": {
        "id": "B2CdviGXtZCx",
        "colab_type": "text"
      },
      "source": [
        "#[PD] select data"
      ]
    },
    {
      "cell_type": "code",
      "metadata": {
        "id": "QOVJnvYnp1Qq",
        "colab_type": "code",
        "colab": {}
      },
      "source": [
        "new_table[new_table['city_name']=='Bangkok Metropolitan Region']"
      ],
      "execution_count": null,
      "outputs": []
    },
    {
      "cell_type": "code",
      "metadata": {
        "id": "K020xH4Bp1UG",
        "colab_type": "code",
        "colab": {}
      },
      "source": [
        "selected_list=new_table['city_name']=='Bangkok Metropolitan Region'\n",
        "selected_list"
      ],
      "execution_count": null,
      "outputs": []
    },
    {
      "cell_type": "code",
      "metadata": {
        "id": "iHprE5J3woUK",
        "colab_type": "code",
        "colab": {}
      },
      "source": [
        "selected_list=new_table['city_name']=='khon Kaen'\n",
        "selected_list"
      ],
      "execution_count": null,
      "outputs": []
    },
    {
      "cell_type": "code",
      "metadata": {
        "id": "kTq7aWHNwCbc",
        "colab_type": "code",
        "colab": {}
      },
      "source": [
        "new_table[selected_list].head()"
      ],
      "execution_count": null,
      "outputs": []
    },
    {
      "cell_type": "code",
      "metadata": {
        "id": "6GtpWlohwodC",
        "colab_type": "code",
        "colab": {}
      },
      "source": [
        ""
      ],
      "execution_count": null,
      "outputs": []
    },
    {
      "cell_type": "code",
      "metadata": {
        "id": "V_RKcZQpwojo",
        "colab_type": "code",
        "colab": {}
      },
      "source": [
        ""
      ],
      "execution_count": null,
      "outputs": []
    },
    {
      "cell_type": "markdown",
      "metadata": {
        "id": "ewuu2KQUvbYl",
        "colab_type": "text"
      },
      "source": [
        "##หาราคาเฉลี่ยของร้านในกรุงเทพเท่ากับกี่บาท"
      ]
    },
    {
      "cell_type": "code",
      "metadata": {
        "id": "cC_g493Bp1Xc",
        "colab_type": "code",
        "colab": {}
      },
      "source": [
        "new_table[new_table['city_name']=='Bangkok Metropolitan Region'].dropna()['avg_price'].mean() \n",
        "#.mean()=หาค่าเฉลี่ย\n",
        "#สร้างตาราางขึ้นมาใหม่new_table และเลือกที่ตาราง city_name "
      ],
      "execution_count": null,
      "outputs": []
    },
    {
      "cell_type": "code",
      "metadata": {
        "id": "Te-DKWUDp1a-",
        "colab_type": "code",
        "colab": {}
      },
      "source": [
        "bkk_table=new_table['city_name']=='Bangkok Metropolitan Region'\n",
        "bkk_table.head()"
      ],
      "execution_count": null,
      "outputs": []
    },
    {
      "cell_type": "markdown",
      "metadata": {
        "id": "WVrUylaZzwyQ",
        "colab_type": "text"
      },
      "source": [
        "2. ลบ missing"
      ]
    },
    {
      "cell_type": "code",
      "metadata": {
        "id": "d44gN2ltp1eV",
        "colab_type": "code",
        "colab": {}
      },
      "source": [
        "bkk_table_dp=bkk_table.dropna()\n",
        "bkk_table_dp.head()"
      ],
      "execution_count": null,
      "outputs": []
    },
    {
      "cell_type": "markdown",
      "metadata": {
        "id": "K3vkBmRp0bjU",
        "colab_type": "text"
      },
      "source": [
        "3.เลือกเฉพาะคอลัมน์ที่ต้องการ column 'avg_price'"
      ]
    },
    {
      "cell_type": "code",
      "metadata": {
        "id": "MEHFLAZWp1j3",
        "colab_type": "code",
        "colab": {}
      },
      "source": [
        "bkk_table_dp_avg_price=bkk_table_dp['avg_price']\n",
        "bkk_table_dp_avg_price"
      ],
      "execution_count": null,
      "outputs": []
    },
    {
      "cell_type": "markdown",
      "metadata": {
        "id": "vxjHrSvq0-C_",
        "colab_type": "text"
      },
      "source": [
        "4.ค่าเฉลี่ย"
      ]
    },
    {
      "cell_type": "code",
      "metadata": {
        "id": "O7CYUqRcp1nl",
        "colab_type": "code",
        "colab": {}
      },
      "source": [
        "bkk_table_dp_avg_price.mean()"
      ],
      "execution_count": null,
      "outputs": []
    },
    {
      "cell_type": "markdown",
      "metadata": {
        "id": "Juyad4s81RZ1",
        "colab_type": "text"
      },
      "source": [
        "##Ex9 หาราคาเฉลี่ยของร้านในเชียงใหม่"
      ]
    },
    {
      "cell_type": "code",
      "metadata": {
        "id": "2ilRLYutp1ts",
        "colab_type": "code",
        "colab": {}
      },
      "source": [
        "new_table[new_table['city_name']=='Chiang Mai'].dropna()['avg_price'].mean()"
      ],
      "execution_count": null,
      "outputs": []
    },
    {
      "cell_type": "code",
      "metadata": {
        "id": "n7P9r8aL1mgb",
        "colab_type": "code",
        "colab": {}
      },
      "source": [
        ""
      ],
      "execution_count": null,
      "outputs": []
    },
    {
      "cell_type": "code",
      "metadata": {
        "id": "bnIeDTns1msl",
        "colab_type": "code",
        "colab": {}
      },
      "source": [
        ""
      ],
      "execution_count": null,
      "outputs": []
    },
    {
      "cell_type": "code",
      "metadata": {
        "id": "FbX6xHET1m5W",
        "colab_type": "code",
        "colab": {}
      },
      "source": [
        ""
      ],
      "execution_count": null,
      "outputs": []
    },
    {
      "cell_type": "code",
      "metadata": {
        "id": "U2u9VAvJ1nFq",
        "colab_type": "code",
        "colab": {}
      },
      "source": [
        ""
      ],
      "execution_count": null,
      "outputs": []
    },
    {
      "cell_type": "code",
      "metadata": {
        "id": "GAP9RnBY1jjG",
        "colab_type": "code",
        "colab": {}
      },
      "source": [
        ""
      ],
      "execution_count": null,
      "outputs": []
    }
  ]
}