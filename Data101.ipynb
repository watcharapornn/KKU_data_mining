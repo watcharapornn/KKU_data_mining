{
  "nbformat": 4,
  "nbformat_minor": 0,
  "metadata": {
    "colab": {
      "name": "ยินดีต้อนรับสู่ Colaboratory",
      "provenance": [],
      "collapsed_sections": [],
      "include_colab_link": true
    },
    "kernelspec": {
      "display_name": "Python 3",
      "name": "python3"
    }
  },
  "cells": [
    {
      "cell_type": "markdown",
      "metadata": {
        "id": "view-in-github",
        "colab_type": "text"
      },
      "source": [
        "<a href=\"https://colab.research.google.com/github/watcharapornn/KKU_data_mining/blob/master/Data101.ipynb\" target=\"_parent\"><img src=\"https://colab.research.google.com/assets/colab-badge.svg\" alt=\"Open In Colab\"/></a>"
      ]
    },
    {
      "cell_type": "markdown",
      "metadata": {
        "colab_type": "text",
        "id": "5fCEDCU_qrC0"
      },
      "source": [
        "<p><img alt=\"Colaboratory logo\" height=\"45px\" src=\"/img/colab_favicon.ico\" align=\"left\" hspace=\"10px\" vspace=\"0px\"></p>\n",
        "\n",
        "<h1>Colaboratory คืออะไร</h1>\n",
        "\n",
        "Colaboratory หรือที่เรียกสั้นๆ ว่า \"Colab\" ให้คุณเขียนและเรียกใช้ Python ในเบราว์เซอร์กับการดำเนินการต่อไปนี้ได้ \n",
        "- ไม่ต้องทำการกำหนดค่าใดๆ\n",
        "- เข้าถึง GPU ได้โดยไม่มีค่าใช้จ่าย\n",
        "- การแชร์ที่ทำได้ง่ายๆ\n",
        "\n",
        "ไม่ว่าคุณจะเป็น<strong>นักเรียน/นักศึกษา</strong> <strong>นักวิทยาศาสตร์ข้อมูล</strong> หรือ<strong>นักวิจัย AI</strong> ระบบของ Colab จะช่วยให้งานของคุณง่ายขึ้นได้ รับชม<a href=\"https://www.youtube.com/watch?v=inN8seMm7UI\">ข้อมูลเบื้องต้นเกี่ยวกับ Colab</a> เพื่อเรียนรู้เพิ่มเติม หรือจะเริ่มต้นใช้งานที่ด้านล่างเลยก็ได้"
      ]
    },
    {
      "cell_type": "markdown",
      "metadata": {
        "colab_type": "text",
        "id": "GJBs_flRovLc"
      },
      "source": [
        "## <strong>เริ่มต้นใช้งาน</strong>\n",
        "\n",
        "เอกสารที่คุณกำลังอ่านไม่ใช่หน้าเว็บแบบคงที่ แต่เป็นสภาพแวดล้อมแบบอินเทอร์แอกทีฟที่เรียกว่า<strong>สมุดบันทึก Colab</strong> ซึ่งให้คุณเขียนและเรียกใช้โค้ดได้\n",
        "\n",
        "ลองดูตัวอย่างนี้ นี่คือ<strong>เซลล์โค้ด</strong>ที่มีสคริปต์ Python สั้นๆ ซึ่งจะคำนวณค่าค่าหนึ่ง เก็บไว้ในตัวแปร แล้วพิมพ์ผลลัพธ์ออกมา"
      ]
    },
    {
      "cell_type": "code",
      "metadata": {
        "colab_type": "code",
        "id": "gJr_9dXGpJ05",
        "colab": {
          "base_uri": "https://localhost:8080/",
          "height": 34
        },
        "outputId": "9f556d03-ec67-4950-a485-cfdba9ddd14d"
      },
      "source": [
        "seconds_in_a_day = 24 * 60 * 60\n",
        "seconds_in_a_day"
      ],
      "execution_count": null,
      "outputs": [
        {
          "output_type": "execute_result",
          "data": {
            "text/plain": [
              "86400"
            ]
          },
          "metadata": {
            "tags": []
          },
          "execution_count": 0
        }
      ]
    },
    {
      "cell_type": "markdown",
      "metadata": {
        "colab_type": "text",
        "id": "2fhs6GZ4qFMx"
      },
      "source": [
        "หากต้องการเรียกใช้โค้ดในเซลล์ด้านบน ให้คลิกเพื่อเลือกโค้ดนั้น และกดปุ่มเล่นทางด้านซ้ายของโค้ด หรือจะใช้แป้นพิมพ์ลัด \"Command/Ctrl+Enter\" ก็ได้ หากต้องการแก้ไขโค้ด ก็เพียงคลิกเซลล์และเริ่มแก้ไขได้เลย\n",
        "\n",
        "ตัวแปรที่คุณกำหนดในเซลล์หนึ่งจะใช้ในเซลล์อื่นในภายหลังได้"
      ]
    },
    {
      "cell_type": "code",
      "metadata": {
        "colab_type": "code",
        "id": "-gE-Ez1qtyIA",
        "colab": {
          "base_uri": "https://localhost:8080/",
          "height": 34
        },
        "outputId": "94cb2224-0edf-457b-90b5-0ac3488d8a97"
      },
      "source": [
        "seconds_in_a_week = 7 * seconds_in_a_day\n",
        "seconds_in_a_week"
      ],
      "execution_count": null,
      "outputs": [
        {
          "output_type": "execute_result",
          "data": {
            "text/plain": [
              "604800"
            ]
          },
          "metadata": {
            "tags": []
          },
          "execution_count": 0
        }
      ]
    },
    {
      "cell_type": "markdown",
      "metadata": {
        "colab_type": "text",
        "id": "lSrWNr3MuFUS"
      },
      "source": [
        "สมุดบันทึก Colab ให้คุณรวม<strong>โค้ดสั่งการ</strong>และ <strong>Rich Text</strong> ลงในเอกสารเดียว ควบคู่ไปกับ<strong>รูปภาพ</strong>, <strong>HTML</strong>, <strong>LaTeX</strong> และอื่นๆ ได้ เมื่อคุณสร้างสมุดบันทึก Colab ของตัวเอง สมุดบันทึกเหล่านั้นจะจัดเก็บอยู่ในบัญชี Google ไดรฟ์ และจะแชร์สมุดบันทึก Colab กับเพื่อนหรือเพื่อนร่วมงานได้ง่ายๆ โดยอนุญาตให้บุคคลดังกล่าวแสดงความคิดเห็นหรือแก้ไขสมุดบันทึกของคุณ ดูข้อมูลเพิ่มเติมได้ใน<a href=\"/notebooks/basic_features_overview.ipynb\">ภาพรวมของ Colab</a> หากต้องการสร้างสมุดบันทึก Colab เล่มใหม่ คุณจะใช้เมนู \"ไฟล์\" ด้านบน หรือทำผ่านลิงก์<a href=\"http://colab.research.google.com#create=true\">สร้างสมุดบันทึก Colab เล่มใหม่</a>ก็ได้\n",
        "\n",
        "สมุดบันทึก Colab คือสมุดบันทึก Jupyter ที่โฮสต์ไว้กับ Colab ดูข้อมูลเพิ่มเติมเกี่ยวกับโปรเจ็กต์ Jupyter ได้ที่ <a href=\"https://www.jupyter.org\">jupyter.org</a>"
      ]
    },
    {
      "cell_type": "markdown",
      "metadata": {
        "colab_type": "text",
        "id": "UdRyKR44dcNI"
      },
      "source": [
        "## วิทยาศาสตร์ข้อมูล\n",
        "\n",
        "Colab ให้คุณใช้ประโยชน์จากไลบรารี Python ที่ได้รับความนิยมได้อย่างเต็มศักยภาพ เพื่อวิเคราะห์และแสดงข้อมูลเป็นภาพ เซลล์โค้ดด้านล่างใช้ <strong>numpy</strong> เพื่อสร้างข้อมูลสุ่มขึ้นมา และใช้ <strong>matplotlib</strong> เพื่อแสดงข้อมูลนั้นเป็นภาพ หากต้องการแก้ไขโค้ด ก็เพียงคลิกเซลล์และเริ่มแก้ไขได้เลย"
      ]
    },
    {
      "cell_type": "code",
      "metadata": {
        "colab_type": "code",
        "id": "C4HZx7Gndbrh",
        "colab": {
          "base_uri": "https://localhost:8080/",
          "height": 281
        },
        "outputId": "46abc637-6abd-41b2-9bba-80a7ae992e06"
      },
      "source": [
        "import numpy as np\n",
        "from matplotlib import pyplot as plt\n",
        "\n",
        "ys = 200 + np.random.randn(100)\n",
        "x = [x for x in range(len(ys))]\n",
        "\n",
        "plt.plot(x, ys, '-')\n",
        "plt.fill_between(x, ys, 195, where=(ys > 195), facecolor='g', alpha=0.6)\n",
        "\n",
        "plt.title(\"Sample Visualization\")\n",
        "plt.show()"
      ],
      "execution_count": null,
      "outputs": [
        {
          "output_type": "display_data",
          "data": {
            "image/png": "[encoded data removed]",
            "text/plain": [
              "<Figure size 432x288 with 1 Axes>"
            ]
          },
          "metadata": {
            "tags": []
          }
        }
      ]
    },
    {
      "cell_type": "markdown",
      "metadata": {
        "colab_type": "text",
        "id": "4_kCnsPUqS6o"
      },
      "source": [
        "คุณนำเข้าข้อมูลของตนเองลงในสมุดบันทึก Colab จากบัญชี Google ไดรฟ์ได้ รวมถึงจากสเปรดชีต, GitHub และแหล่งข้อมูลอื่นๆ อีกมากมาย ดูข้อมูลเพิ่มเติมเกี่ยวกับการนำเข้าข้อมูลและการใช้ Colab ทางด้านวิทยาศาสตร์ข้อมูลได้จากลิงก์ด้านล่างในส่วน<a href=\"#working-with-data\">การทำงานกับข้อมูล</a>"
      ]
    },
    {
      "cell_type": "markdown",
      "metadata": {
        "colab_type": "text",
        "id": "OwuxHmxllTwN"
      },
      "source": [
        "## แมชชีนเลิร์นนิง\n",
        "\n",
        "Colab ให้คุณนำเข้าชุดข้อมูลรูปภาพ ฝึกการทำงานของตัวแยกประเภทรูปภาพกับชุดข้อมูลนั้น แล้วประเมินโมเดล โดยทั้งหมดนี้ใช้<a href=\"https://colab.research.google.com/github/tensorflow/docs/blob/master/site/en/tutorials/quickstart/beginner.ipynb\">โค้ดเพียงไม่กี่บรรทัด</a>เท่านั้น สมุดบันทึก Colab เรียกใช้โค้ดในเซิร์ฟเวอร์ระบบคลาวด์ของ Google ซึ่งหมายความว่าคุณจะใช้ประโยชน์จากประสิทธิภาพของฮาร์ดแวร์ Google รวมถึง <a href=\"#using-accelerated-hardware\">GPU และ TPU</a> โดยไม่ต้องคำนึงถึงสมรรถภาพของคอมพิวเตอร์ตัวเองเลย ใช้แค่เบราว์เซอร์เท่านั้น"
      ]
    },
    {
      "cell_type": "markdown",
      "metadata": {
        "colab_type": "text",
        "id": "ufxBm1yRnruN"
      },
      "source": [
        "ชุมชนแมชชีนเลิร์นนิงมีการประยุกต์ใช้ Colab อย่างกว้างขวางในงานต่างๆ เช่น\n",
        "- การเริ่มต้นใช้งาน TensorFlow\n",
        "- การพัฒนาและการฝึกโครงข่ายระบบประสาทเทียม\n",
        "- การทดสอบกับ TPU\n",
        "- การเผยแพร่งานวิจัย AI\n",
        "- การสร้างบทแนะนำ\n",
        "\n",
        "ดูตัวอย่างสมุดบันทึก Colab ที่สาธิตการประยุกต์ใช้แมชชีนเลิร์นนิงได้ใน<a href=\"#machine-learning-examples\">ตัวอย่างแมชชีนเลิร์นนิง</a>ด้านล่าง"
      ]
    },
    {
      "cell_type": "markdown",
      "metadata": {
        "colab_type": "text",
        "id": "-Rh3-Vt9Nev9"
      },
      "source": [
        "## แหล่งข้อมูลเพิ่มเติม\n",
        "\n",
        "### การทำงานกับสมุดบันทึกใน Colab\n",
        "- [ภาพรวมของ Colaboratory](/notebooks/basic_features_overview.ipynb)\n",
        "- [ข้อมูลเบื้องต้นเกี่ยวกับ Markdown](/notebooks/markdown_guide.ipynb)\n",
        "- [การนำเข้าไลบรารีและการติดตั้งทรัพยากร Dependency](/notebooks/snippets/importing_libraries.ipynb)\n",
        "- [การบันทึกและการโหลดสมุดบันทึกใน GitHub](https://colab.research.google.com/github/googlecolab/colabtools/blob/master/notebooks/colab-github-demo.ipynb)\n",
        "- [ฟอร์มแบบอินเทอร์แอกทีฟ](/notebooks/forms.ipynb)\n",
        "- [วิดเจ็ตแบบอินเทอร์แอกทีฟ](/notebooks/widgets.ipynb)\n",
        "- <img src=\"/img/new.png\" height=\"20px\" align=\"left\" hspace=\"4px\" alt=\"New\"></img>\n",
        " [TensorFlow 2 ใน Colab](/notebooks/tensorflow_version.ipynb)\n",
        "\n",
        "<a name=\"working-with-data\"></a>\n",
        "### การทำงานกับข้อมูล\n",
        "- [การโหลดข้อมูล: ไดรฟ์ ชีต และ Google Cloud Storage](/notebooks/io.ipynb) \n",
        "- [แผนภูมิ: การแสดงข้อมูลเป็นภาพ](/notebooks/charts.ipynb)\n",
        "- [การเริ่มต้นใช้งาน BigQuery](/notebooks/bigquery.ipynb)\n",
        "\n",
        "### หลักสูตรเร่งรัดเกี่ยวกับแมชชีนเลิร์นนิง\n",
        "นี่คือสมุดบันทึกบางส่วนจากหลักสูตรแมชชีนเลิร์นนิงออนไลน์ของ Google ดูเพิ่มเติมได้ใน<a href=\"https://developers.google.com/machine-learning/crash-course/\">เว็บไซต์การเรียนรู้แบบเต็มหลักสูตร</a>\n",
        "- [แนะนำ Pandas](/notebooks/mlcc/intro_to_pandas.ipynb)\n",
        "- [แนวคิดของ Tensorflow](/notebooks/mlcc/tensorflow_programming_concepts.ipynb)\n",
        "- [การใช้ TensorFlow โดยเบื้องต้น](/notebooks/mlcc/first_steps_with_tensor_flow.ipynb)\n",
        "- [แนะนำโครงข่ายประสาท](/notebooks/mlcc/intro_to_neural_nets.ipynb)\n",
        "- [แนะนำการขาดแคลนข้อมูลและการฝัง](/notebooks/mlcc/intro_to_sparse_data_and_embeddings.ipynb)\n",
        "\n",
        "<a name=\"using-accelerated-hardware\"></a>\n",
        "### การใช้ฮาร์ดแวร์ที่มีการเร่ง\n",
        "- [TensorFlow กับ GPU](/notebooks/gpu.ipynb)\n",
        "- [TensorFlow กับ TPU](/notebooks/tpu.ipynb)"
      ]
    },
    {
      "cell_type": "markdown",
      "metadata": {
        "colab_type": "text",
        "id": "P-H6Lw1vyNNd"
      },
      "source": [
        "<a name=\"machine-learning-examples\"></a>\n",
        "\n",
        "## ตัวอย่างแมชชีนเลิร์นนิง\n",
        "\n",
        "ดูตัวอย่างแบบปลายทางถึงปลายทางของการวิเคราะห์แมชชีนเลิร์นนิงแบบอินเทอร์แอกทีฟที่ Colaboratory ทำให้เป็นจริงได้ในบทแนะนำเหล่านี้โดยใช้โมเดลจาก <a href=\"https://tfhub.dev\">TensorFlow Hub</a>\n",
        "\n",
        "ตัวอย่างที่โดดเด่น\n",
        "\n",
        "- <a href=\"https://tensorflow.org/hub/tutorials/tf2_image_retraining\">การฝึกตัวแยกประเภทรูปภาพใหม่</a>: สร้างโมเดล Keras เพิ่มเติมจากตัวแยกประเภทรูปภาพที่ฝึกไว้ล่วงหน้าเพื่อแยกแยะดอกไม้ชนิดต่างๆ\n",
        "- <a href=\"https://tensorflow.org/hub/tutorials/tf2_text_classification\">การจัดประเภทข้อความ</a>: จัดประเภทรีวิวภาพยนตร์ใน IMDB ว่าเป็น<em>เชิงบวก</em>หรือ<em>เชิงลบ</em>\n",
        "- <a href=\"https://tensorflow.org/hub/tutorials/tf2_arbitrary_image_stylization\">การโอนรูปแบบ</a>: ใช้การเรียนรู้เชิงลึกเพื่อโอนรูปแบบระหว่างรูปภาพ\n",
        "- <a href=\"https://tensorflow.org/hub/tutorials/retrieval_with_tf_hub_universal_encoder_qa\">การถามและตอบของ Universal Sentence Encoder แบบหลายภาษา</a>: ใช้โมเดลแมชชีนเลิร์นนิงเพื่อตอบคำถามจากชุดข้อมูล SQuAD\n",
        "- <a href=\"https://tensorflow.org/hub/tutorials/tweening_conv3d\">ชนิดการประมาณค่าในช่วงวิดีโอ</a>: คาดการณ์สิ่งที่เกิดขึ้นในวิดีโอระหว่างเฟรมแรกกับเฟรมสุดท้าย\n"
      ]
    },
    {
      "cell_type": "code",
      "metadata": {
        "id": "JRyHukIhojgG",
        "colab_type": "code",
        "colab": {}
      },
      "source": [
        "import pandas"
      ],
      "execution_count": null,
      "outputs": []
    },
    {
      "cell_type": "code",
      "metadata": {
        "id": "kU-FSMdQoj7E",
        "colab_type": "code",
        "colab": {}
      },
      "source": [
        "import pandas as pd"
      ],
      "execution_count": null,
      "outputs": []
    },
    {
      "cell_type": "code",
      "metadata": {
        "id": "qF9Wdiy1okF_",
        "colab_type": "code",
        "colab": {
          "base_uri": "https://localhost:8080/",
          "height": 127
        },
        "outputId": "b13da876-e38c-4981-952f-1004fd5d95ea"
      },
      "source": [
        "from google.colab import drive\n",
        "drive.mount('/content/drive')"
      ],
      "execution_count": null,
      "outputs": [
        {
          "output_type": "stream",
          "text": [
            "Go to this URL in a browser: https://accounts.google.com/o/oauth2/auth?client_id=947318989803-6bn6qk8qdgf4n4g3pfee6491hc0brc4i.apps.googleusercontent.com&redirect_uri=urn%3aietf%3awg%3aoauth%3a2.0%3aoob&response_type=code&scope=email%20https%3a%2f%2fwww.googleapis.com%2fauth%2fdocs.test%20https%3a%2f%2fwww.googleapis.com%2fauth%2fdrive%20https%3a%2f%2fwww.googleapis.com%2fauth%2fdrive.photos.readonly%20https%3a%2f%2fwww.googleapis.com%2fauth%2fpeopleapi.readonly\n",
            "\n",
            "Enter your authorization code:\n",
            "··········\n",
            "Mounted at /content/drive\n"
          ],
          "name": "stdout"
        }
      ]
    },
    {
      "cell_type": "code",
      "metadata": {
        "id": "p-33SmH8okMw",
        "colab_type": "code",
        "colab": {}
      },
      "source": [
        "import os"
      ],
      "execution_count": null,
      "outputs": []
    },
    {
      "cell_type": "code",
      "metadata": {
        "id": "6rGzNJu4sPP5",
        "colab_type": "code",
        "colab": {}
      },
      "source": [
        "path = '/content/drive/My Drive/DWDM_material'"
      ],
      "execution_count": null,
      "outputs": []
    },
    {
      "cell_type": "code",
      "metadata": {
        "id": "mMnsZoFcsPad",
        "colab_type": "code",
        "colab": {
          "base_uri": "https://localhost:8080/",
          "height": 35
        },
        "outputId": "dc6af647-9395-4f2b-f334-df132ec9c3fb"
      },
      "source": [
        "os.listdir(path)"
      ],
      "execution_count": null,
      "outputs": [
        {
          "output_type": "execute_result",
          "data": {
            "text/plain": [
              "['test.csv']"
            ]
          },
          "metadata": {
            "tags": []
          },
          "execution_count": 4
        }
      ]
    },
    {
      "cell_type": "code",
      "metadata": {
        "id": "VbFQ3zsGsPf8",
        "colab_type": "code",
        "colab": {}
      },
      "source": [
        "import pandas as pd"
      ],
      "execution_count": null,
      "outputs": []
    },
    {
      "cell_type": "code",
      "metadata": {
        "id": "DEyb22uzsPlh",
        "colab_type": "code",
        "colab": {
          "base_uri": "https://localhost:8080/",
          "height": 35
        },
        "outputId": "b4b65681-444a-47cf-eb98-833b1cae1336"
      },
      "source": [
        "file_path = os.path.join(path,'test.csv')\n",
        "print(file_path)"
      ],
      "execution_count": null,
      "outputs": [
        {
          "output_type": "stream",
          "text": [
            "/content/drive/My Drive/DWDM_material/test.csv\n"
          ],
          "name": "stdout"
        }
      ]
    },
    {
      "cell_type": "code",
      "metadata": {
        "id": "B5PzyV-hvWQu",
        "colab_type": "code",
        "colab": {
          "base_uri": "https://localhost:8080/",
          "height": 204
        },
        "outputId": "eb2c7895-7790-4e0d-c688-691a2310978e"
      },
      "source": [
        "pd.read_csv(file_path).head()"
      ],
      "execution_count": null,
      "outputs": [
        {
          "output_type": "execute_result",
          "data": {
            "text/html": [
              "<div>\n",
              "<style scoped>\n",
              "    .dataframe tbody tr th:only-of-type {\n",
              "        vertical-align: middle;\n",
              "    }\n",
              "\n",
              "    .dataframe tbody tr th {\n",
              "        vertical-align: top;\n",
              "    }\n",
              "\n",
              "    .dataframe thead th {\n",
              "        text-align: right;\n",
              "    }\n",
              "</style>\n",
              "<table border=\"1\" class=\"dataframe\">\n",
              "  <thead>\n",
              "    <tr style=\"text-align: right;\">\n",
              "      <th></th>\n",
              "      <th>Unnamed: 0</th>\n",
              "      <th>x</th>\n",
              "      <th>y</th>\n",
              "    </tr>\n",
              "  </thead>\n",
              "  <tbody>\n",
              "    <tr>\n",
              "      <th>0</th>\n",
              "      <td>0</td>\n",
              "      <td>55.3846</td>\n",
              "      <td>97.1795</td>\n",
              "    </tr>\n",
              "    <tr>\n",
              "      <th>1</th>\n",
              "      <td>1</td>\n",
              "      <td>51.5385</td>\n",
              "      <td>96.0256</td>\n",
              "    </tr>\n",
              "    <tr>\n",
              "      <th>2</th>\n",
              "      <td>2</td>\n",
              "      <td>46.1538</td>\n",
              "      <td>94.4872</td>\n",
              "    </tr>\n",
              "    <tr>\n",
              "      <th>3</th>\n",
              "      <td>3</td>\n",
              "      <td>42.8205</td>\n",
              "      <td>91.4103</td>\n",
              "    </tr>\n",
              "    <tr>\n",
              "      <th>4</th>\n",
              "      <td>4</td>\n",
              "      <td>40.7692</td>\n",
              "      <td>88.3333</td>\n",
              "    </tr>\n",
              "  </tbody>\n",
              "</table>\n",
              "</div>"
            ],
            "text/plain": [
              "   Unnamed: 0        x        y\n",
              "0           0  55.3846  97.1795\n",
              "1           1  51.5385  96.0256\n",
              "2           2  46.1538  94.4872\n",
              "3           3  42.8205  91.4103\n",
              "4           4  40.7692  88.3333"
            ]
          },
          "metadata": {
            "tags": []
          },
          "execution_count": 8
        }
      ]
    },
    {
      "cell_type": "code",
      "metadata": {
        "id": "yMyDv3SqvWZ0",
        "colab_type": "code",
        "colab": {}
      },
      "source": [
        "table1 = pd.read_csv(file_path)"
      ],
      "execution_count": null,
      "outputs": []
    },
    {
      "cell_type": "code",
      "metadata": {
        "id": "ooEsjkcOsPrH",
        "colab_type": "code",
        "colab": {
          "base_uri": "https://localhost:8080/",
          "height": 419
        },
        "outputId": "007054c7-f7f6-4533-ab2c-f5d6827cd3a0"
      },
      "source": [
        "table1"
      ],
      "execution_count": null,
      "outputs": [
        {
          "output_type": "execute_result",
          "data": {
            "text/html": [
              "<div>\n",
              "<style scoped>\n",
              "    .dataframe tbody tr th:only-of-type {\n",
              "        vertical-align: middle;\n",
              "    }\n",
              "\n",
              "    .dataframe tbody tr th {\n",
              "        vertical-align: top;\n",
              "    }\n",
              "\n",
              "    .dataframe thead th {\n",
              "        text-align: right;\n",
              "    }\n",
              "</style>\n",
              "<table border=\"1\" class=\"dataframe\">\n",
              "  <thead>\n",
              "    <tr style=\"text-align: right;\">\n",
              "      <th></th>\n",
              "      <th>Unnamed: 0</th>\n",
              "      <th>x</th>\n",
              "      <th>y</th>\n",
              "    </tr>\n",
              "  </thead>\n",
              "  <tbody>\n",
              "    <tr>\n",
              "      <th>0</th>\n",
              "      <td>0</td>\n",
              "      <td>55.3846</td>\n",
              "      <td>97.1795</td>\n",
              "    </tr>\n",
              "    <tr>\n",
              "      <th>1</th>\n",
              "      <td>1</td>\n",
              "      <td>51.5385</td>\n",
              "      <td>96.0256</td>\n",
              "    </tr>\n",
              "    <tr>\n",
              "      <th>2</th>\n",
              "      <td>2</td>\n",
              "      <td>46.1538</td>\n",
              "      <td>94.4872</td>\n",
              "    </tr>\n",
              "    <tr>\n",
              "      <th>3</th>\n",
              "      <td>3</td>\n",
              "      <td>42.8205</td>\n",
              "      <td>91.4103</td>\n",
              "    </tr>\n",
              "    <tr>\n",
              "      <th>4</th>\n",
              "      <td>4</td>\n",
              "      <td>40.7692</td>\n",
              "      <td>88.3333</td>\n",
              "    </tr>\n",
              "    <tr>\n",
              "      <th>...</th>\n",
              "      <td>...</td>\n",
              "      <td>...</td>\n",
              "      <td>...</td>\n",
              "    </tr>\n",
              "    <tr>\n",
              "      <th>137</th>\n",
              "      <td>137</td>\n",
              "      <td>39.4872</td>\n",
              "      <td>25.3846</td>\n",
              "    </tr>\n",
              "    <tr>\n",
              "      <th>138</th>\n",
              "      <td>138</td>\n",
              "      <td>91.2821</td>\n",
              "      <td>41.5385</td>\n",
              "    </tr>\n",
              "    <tr>\n",
              "      <th>139</th>\n",
              "      <td>139</td>\n",
              "      <td>50.0000</td>\n",
              "      <td>95.7692</td>\n",
              "    </tr>\n",
              "    <tr>\n",
              "      <th>140</th>\n",
              "      <td>140</td>\n",
              "      <td>47.9487</td>\n",
              "      <td>95.0000</td>\n",
              "    </tr>\n",
              "    <tr>\n",
              "      <th>141</th>\n",
              "      <td>141</td>\n",
              "      <td>44.1026</td>\n",
              "      <td>92.6923</td>\n",
              "    </tr>\n",
              "  </tbody>\n",
              "</table>\n",
              "<p>142 rows × 3 columns</p>\n",
              "</div>"
            ],
            "text/plain": [
              "     Unnamed: 0        x        y\n",
              "0             0  55.3846  97.1795\n",
              "1             1  51.5385  96.0256\n",
              "2             2  46.1538  94.4872\n",
              "3             3  42.8205  91.4103\n",
              "4             4  40.7692  88.3333\n",
              "..          ...      ...      ...\n",
              "137         137  39.4872  25.3846\n",
              "138         138  91.2821  41.5385\n",
              "139         139  50.0000  95.7692\n",
              "140         140  47.9487  95.0000\n",
              "141         141  44.1026  92.6923\n",
              "\n",
              "[142 rows x 3 columns]"
            ]
          },
          "metadata": {
            "tags": []
          },
          "execution_count": 10
        }
      ]
    },
    {
      "cell_type": "code",
      "metadata": {
        "id": "LgnkORp7wgQ9",
        "colab_type": "code",
        "colab": {
          "base_uri": "https://localhost:8080/",
          "height": 204
        },
        "outputId": "ee5ca3a4-b6c9-43eb-c9a6-e181a0737872"
      },
      "source": [
        "table1.head()"
      ],
      "execution_count": null,
      "outputs": [
        {
          "output_type": "execute_result",
          "data": {
            "text/html": [
              "<div>\n",
              "<style scoped>\n",
              "    .dataframe tbody tr th:only-of-type {\n",
              "        vertical-align: middle;\n",
              "    }\n",
              "\n",
              "    .dataframe tbody tr th {\n",
              "        vertical-align: top;\n",
              "    }\n",
              "\n",
              "    .dataframe thead th {\n",
              "        text-align: right;\n",
              "    }\n",
              "</style>\n",
              "<table border=\"1\" class=\"dataframe\">\n",
              "  <thead>\n",
              "    <tr style=\"text-align: right;\">\n",
              "      <th></th>\n",
              "      <th>Unnamed: 0</th>\n",
              "      <th>x</th>\n",
              "      <th>y</th>\n",
              "    </tr>\n",
              "  </thead>\n",
              "  <tbody>\n",
              "    <tr>\n",
              "      <th>0</th>\n",
              "      <td>0</td>\n",
              "      <td>55.3846</td>\n",
              "      <td>97.1795</td>\n",
              "    </tr>\n",
              "    <tr>\n",
              "      <th>1</th>\n",
              "      <td>1</td>\n",
              "      <td>51.5385</td>\n",
              "      <td>96.0256</td>\n",
              "    </tr>\n",
              "    <tr>\n",
              "      <th>2</th>\n",
              "      <td>2</td>\n",
              "      <td>46.1538</td>\n",
              "      <td>94.4872</td>\n",
              "    </tr>\n",
              "    <tr>\n",
              "      <th>3</th>\n",
              "      <td>3</td>\n",
              "      <td>42.8205</td>\n",
              "      <td>91.4103</td>\n",
              "    </tr>\n",
              "    <tr>\n",
              "      <th>4</th>\n",
              "      <td>4</td>\n",
              "      <td>40.7692</td>\n",
              "      <td>88.3333</td>\n",
              "    </tr>\n",
              "  </tbody>\n",
              "</table>\n",
              "</div>"
            ],
            "text/plain": [
              "   Unnamed: 0        x        y\n",
              "0           0  55.3846  97.1795\n",
              "1           1  51.5385  96.0256\n",
              "2           2  46.1538  94.4872\n",
              "3           3  42.8205  91.4103\n",
              "4           4  40.7692  88.3333"
            ]
          },
          "metadata": {
            "tags": []
          },
          "execution_count": 11
        }
      ]
    },
    {
      "cell_type": "code",
      "metadata": {
        "id": "o4SlbGfswqvx",
        "colab_type": "code",
        "colab": {}
      },
      "source": [
        "from matplotlib import pyplot as plt"
      ],
      "execution_count": null,
      "outputs": []
    },
    {
      "cell_type": "code",
      "metadata": {
        "id": "ugvygRE4wq4G",
        "colab_type": "code",
        "colab": {
          "base_uri": "https://localhost:8080/",
          "height": 283
        },
        "outputId": "8354e0f2-f2c8-4c50-cb67-44d3f07864ee"
      },
      "source": [
        "plt.scatter(table1['x'],table1['y'])"
      ],
      "execution_count": null,
      "outputs": [
        {
          "output_type": "execute_result",
          "data": {
            "text/plain": [
              "<matplotlib.collections.PathCollection at 0x7f02240a6048>"
            ]
          },
          "metadata": {
            "tags": []
          },
          "execution_count": 13
        },
        {
          "output_type": "display_data",
          "data": {
            "image/png": "[encoded data removed]",
            "text/plain": [
              "<Figure size 432x288 with 1 Axes>"
            ]
          },
          "metadata": {
            "tags": [],
            "needs_background": "light"
          }
        }
      ]
    },
    {
      "cell_type": "markdown",
      "metadata": {
        "id": "lCwSy6UGx9nK",
        "colab_type": "text"
      },
      "source": [
        "#Centrality"
      ]
    },
    {
      "cell_type": "code",
      "metadata": {
        "id": "HK4Qps3Owrav",
        "colab_type": "code",
        "colab": {
          "base_uri": "https://localhost:8080/",
          "height": 233
        },
        "outputId": "49d85746-0cbd-4718-8b8c-704fae3d086c"
      },
      "source": [
        "table1.x"
      ],
      "execution_count": null,
      "outputs": [
        {
          "output_type": "execute_result",
          "data": {
            "text/plain": [
              "0      55.3846\n",
              "1      51.5385\n",
              "2      46.1538\n",
              "3      42.8205\n",
              "4      40.7692\n",
              "        ...   \n",
              "137    39.4872\n",
              "138    91.2821\n",
              "139    50.0000\n",
              "140    47.9487\n",
              "141    44.1026\n",
              "Name: x, Length: 142, dtype: float64"
            ]
          },
          "metadata": {
            "tags": []
          },
          "execution_count": 14
        }
      ]
    },
    {
      "cell_type": "code",
      "metadata": {
        "id": "Zx0HvWvtwrkT",
        "colab_type": "code",
        "colab": {
          "base_uri": "https://localhost:8080/",
          "height": 233
        },
        "outputId": "2f7e6f90-0a1b-4eea-f1b2-cd57dc1cd631"
      },
      "source": [
        "table1['x']"
      ],
      "execution_count": null,
      "outputs": [
        {
          "output_type": "execute_result",
          "data": {
            "text/plain": [
              "0      55.3846\n",
              "1      51.5385\n",
              "2      46.1538\n",
              "3      42.8205\n",
              "4      40.7692\n",
              "        ...   \n",
              "137    39.4872\n",
              "138    91.2821\n",
              "139    50.0000\n",
              "140    47.9487\n",
              "141    44.1026\n",
              "Name: x, Length: 142, dtype: float64"
            ]
          },
          "metadata": {
            "tags": []
          },
          "execution_count": 15
        }
      ]
    },
    {
      "cell_type": "markdown",
      "metadata": {
        "id": "xv6BisKk4OY1",
        "colab_type": "text"
      },
      "source": [
        "#Python Data Structure"
      ]
    },
    {
      "cell_type": "code",
      "metadata": {
        "id": "xtaUXLwowrrE",
        "colab_type": "code",
        "colab": {}
      },
      "source": [
        "a = 1\n",
        "b =3"
      ],
      "execution_count": null,
      "outputs": []
    },
    {
      "cell_type": "code",
      "metadata": {
        "id": "uhezomsuwrzE",
        "colab_type": "code",
        "colab": {}
      },
      "source": [
        "c = a + b"
      ],
      "execution_count": null,
      "outputs": []
    },
    {
      "cell_type": "code",
      "metadata": {
        "id": "vb5mQozMwr5u",
        "colab_type": "code",
        "colab": {
          "base_uri": "https://localhost:8080/",
          "height": 34
        },
        "outputId": "a8e2de4b-6632-496c-ae37-8edcd30acc48"
      },
      "source": [
        "c"
      ],
      "execution_count": null,
      "outputs": [
        {
          "output_type": "execute_result",
          "data": {
            "text/plain": [
              "4"
            ]
          },
          "metadata": {
            "tags": []
          },
          "execution_count": 3
        }
      ]
    },
    {
      "cell_type": "code",
      "metadata": {
        "id": "aCOIfonIwgXe",
        "colab_type": "code",
        "colab": {}
      },
      "source": [
        "name = 'a'"
      ],
      "execution_count": null,
      "outputs": []
    },
    {
      "cell_type": "code",
      "metadata": {
        "id": "jYKaNAP2sPxr",
        "colab_type": "code",
        "colab": {
          "base_uri": "https://localhost:8080/",
          "height": 34
        },
        "outputId": "b618f822-378b-4ebf-9f9f-dc55de8ef185"
      },
      "source": [
        "name"
      ],
      "execution_count": null,
      "outputs": [
        {
          "output_type": "execute_result",
          "data": {
            "application/vnd.google.colaboratory.intrinsic+json": {
              "type": "string"
            },
            "text/plain": [
              "'a'"
            ]
          },
          "metadata": {
            "tags": []
          },
          "execution_count": 5
        }
      ]
    },
    {
      "cell_type": "code",
      "metadata": {
        "id": "T8g6Sv7-ptlU",
        "colab_type": "code",
        "colab": {}
      },
      "source": [
        "one = '1'"
      ],
      "execution_count": null,
      "outputs": []
    },
    {
      "cell_type": "code",
      "metadata": {
        "id": "BPuXw6ZAptq-",
        "colab_type": "code",
        "colab": {
          "base_uri": "https://localhost:8080/",
          "height": 164
        },
        "outputId": "cadc6093-d097-4f07-c43b-2f4765a24644"
      },
      "source": [
        "a + one"
      ],
      "execution_count": null,
      "outputs": [
        {
          "output_type": "error",
          "ename": "TypeError",
          "evalue": "ignored",
          "traceback": [
            "\u001b[0;31m---------------------------------------------------------------------------\u001b[0m",
            "\u001b[0;31mTypeError\u001b[0m                                 Traceback (most recent call last)",
            "\u001b[0;32m<ipython-input-7-5fb4ec9c50dc>\u001b[0m in \u001b[0;36m<module>\u001b[0;34m()\u001b[0m\n\u001b[0;32m----> 1\u001b[0;31m \u001b[0ma\u001b[0m \u001b[0;34m+\u001b[0m \u001b[0mone\u001b[0m\u001b[0;34m\u001b[0m\u001b[0;34m\u001b[0m\u001b[0m\n\u001b[0m",
            "\u001b[0;31mTypeError\u001b[0m: unsupported operand type(s) for +: 'int' and 'str'"
          ]
        }
      ]
    },
    {
      "cell_type": "code",
      "metadata": {
        "id": "DysLeRS_ptus",
        "colab_type": "code",
        "colab": {
          "base_uri": "https://localhost:8080/",
          "height": 34
        },
        "outputId": "10696d70-9942-4d51-d989-2a01bca0c983"
      },
      "source": [
        "a + int(one)"
      ],
      "execution_count": null,
      "outputs": [
        {
          "output_type": "execute_result",
          "data": {
            "text/plain": [
              "2"
            ]
          },
          "metadata": {
            "tags": []
          },
          "execution_count": 8
        }
      ]
    },
    {
      "cell_type": "code",
      "metadata": {
        "id": "RZUQnBucptpB",
        "colab_type": "code",
        "colab": {}
      },
      "source": [
        "num = '112.76'"
      ],
      "execution_count": null,
      "outputs": []
    },
    {
      "cell_type": "code",
      "metadata": {
        "id": "zFfpUMX9ptiR",
        "colab_type": "code",
        "colab": {
          "base_uri": "https://localhost:8080/",
          "height": 164
        },
        "outputId": "cdecd0ad-04db-4ed7-b593-7ea83e138fa4"
      },
      "source": [
        "int(num)"
      ],
      "execution_count": null,
      "outputs": [
        {
          "output_type": "error",
          "ename": "ValueError",
          "evalue": "ignored",
          "traceback": [
            "\u001b[0;31m---------------------------------------------------------------------------\u001b[0m",
            "\u001b[0;31mValueError\u001b[0m                                Traceback (most recent call last)",
            "\u001b[0;32m<ipython-input-10-fa4446644730>\u001b[0m in \u001b[0;36m<module>\u001b[0;34m()\u001b[0m\n\u001b[0;32m----> 1\u001b[0;31m \u001b[0mint\u001b[0m\u001b[0;34m(\u001b[0m\u001b[0mnum\u001b[0m\u001b[0;34m)\u001b[0m\u001b[0;34m\u001b[0m\u001b[0;34m\u001b[0m\u001b[0m\n\u001b[0m",
            "\u001b[0;31mValueError\u001b[0m: invalid literal for int() with base 10: '112.76'"
          ]
        }
      ]
    },
    {
      "cell_type": "code",
      "metadata": {
        "id": "_soEM8KHsAPG",
        "colab_type": "code",
        "colab": {
          "base_uri": "https://localhost:8080/",
          "height": 34
        },
        "outputId": "ca54035b-a194-46b4-aac7-3a845a6a142c"
      },
      "source": [
        "float(num)"
      ],
      "execution_count": null,
      "outputs": [
        {
          "output_type": "execute_result",
          "data": {
            "text/plain": [
              "112.76"
            ]
          },
          "metadata": {
            "tags": []
          },
          "execution_count": 11
        }
      ]
    },
    {
      "cell_type": "code",
      "metadata": {
        "id": "isNMA1LfsAkf",
        "colab_type": "code",
        "colab": {
          "base_uri": "https://localhost:8080/",
          "height": 34
        },
        "outputId": "75ec5fd4-e562-41f9-8d9c-165912c5ed6c"
      },
      "source": [
        "str(float(num))"
      ],
      "execution_count": null,
      "outputs": [
        {
          "output_type": "execute_result",
          "data": {
            "application/vnd.google.colaboratory.intrinsic+json": {
              "type": "string"
            },
            "text/plain": [
              "'112.76'"
            ]
          },
          "metadata": {
            "tags": []
          },
          "execution_count": 12
        }
      ]
    },
    {
      "cell_type": "markdown",
      "metadata": {
        "id": "MILxjJxXsS8t",
        "colab_type": "text"
      },
      "source": [
        "เปลี่ยนค่า num2='112.76887' เป็นเลขจำนวนเต็ม 112 \n",
        "ด้วย function casting(int() float() str()) เท่านั้น"
      ]
    },
    {
      "cell_type": "code",
      "metadata": {
        "id": "7pvtu7sssMUy",
        "colab_type": "code",
        "colab": {
          "base_uri": "https://localhost:8080/",
          "height": 130
        },
        "outputId": "8026e42d-4563-4206-bb9f-8a06d9809c68"
      },
      "source": [
        "ืีืีnum2 = '112.76887'"
      ],
      "execution_count": null,
      "outputs": [
        {
          "output_type": "error",
          "ename": "SyntaxError",
          "evalue": "ignored",
          "traceback": [
            "\u001b[0;36m  File \u001b[0;32m\"<ipython-input-15-1adc00bf960b>\"\u001b[0;36m, line \u001b[0;32m1\u001b[0m\n\u001b[0;31m    ืีืีnum2 = '112.76887'\u001b[0m\n\u001b[0m           ^\u001b[0m\n\u001b[0;31mSyntaxError\u001b[0m\u001b[0;31m:\u001b[0m invalid character in identifier\n"
          ]
        }
      ]
    },
    {
      "cell_type": "markdown",
      "metadata": {
        "id": "pU1xFIgKiKju",
        "colab_type": "text"
      },
      "source": [
        "#list()"
      ]
    },
    {
      "cell_type": "code",
      "metadata": {
        "id": "aaoQo6KisMZW",
        "colab_type": "code",
        "colab": {}
      },
      "source": [
        "list_a = [1,3,7,19]"
      ],
      "execution_count": 48,
      "outputs": []
    },
    {
      "cell_type": "code",
      "metadata": {
        "id": "DIznA7oRsMcU",
        "colab_type": "code",
        "colab": {
          "base_uri": "https://localhost:8080/",
          "height": 35
        },
        "outputId": "761c7ac7-bf4a-4e45-e5a4-9e383c2848cc"
      },
      "source": [
        "list_a[0]"
      ],
      "execution_count": 49,
      "outputs": [
        {
          "output_type": "execute_result",
          "data": {
            "text/plain": [
              "1"
            ]
          },
          "metadata": {
            "tags": []
          },
          "execution_count": 49
        }
      ]
    },
    {
      "cell_type": "code",
      "metadata": {
        "id": "SGg_0AzKsMoz",
        "colab_type": "code",
        "colab": {}
      },
      "source": [
        ""
      ],
      "execution_count": null,
      "outputs": []
    },
    {
      "cell_type": "code",
      "metadata": {
        "id": "fTQV_vBzsMsH",
        "colab_type": "code",
        "colab": {}
      },
      "source": [
        ""
      ],
      "execution_count": null,
      "outputs": []
    },
    {
      "cell_type": "markdown",
      "metadata": {
        "id": "MKB1Ojj3sCbW",
        "colab_type": "text"
      },
      "source": [
        "#If statement เงื่อนไข (<,>,<=,>=,==,!=)"
      ]
    },
    {
      "cell_type": "code",
      "metadata": {
        "id": "tFdDqF-RsS6z",
        "colab_type": "code",
        "colab": {}
      },
      "source": [
        ""
      ],
      "execution_count": null,
      "outputs": []
    },
    {
      "cell_type": "markdown",
      "metadata": {
        "id": "1s0e57WRig7n",
        "colab_type": "text"
      },
      "source": [
        "#Ex"
      ]
    },
    {
      "cell_type": "code",
      "metadata": {
        "id": "LSRc6TE0ifjx",
        "colab_type": "code",
        "colab": {
          "base_uri": "https://localhost:8080/",
          "height": 121
        },
        "outputId": "14a7e282-2866-45a5-955c-49dabd25ccea"
      },
      "source": [
        "list_EX = [-4,-1,-9,8,11]\n",
        "MAXIMUM = -1000000000\n",
        "for i in list_EX:\n",
        "      if i > MAXIMUM:\n",
        "          print (f'{i}>{MAXIMUM} UPDATE!,',end=' ')\n",
        "          MAXIMUM = i\n",
        "          print(f'now maximum is {MAXIMUM}')\n",
        "      else:\n",
        "          print(f'{i}<{MAXIMUM} NOT UPDATE!, now maximum is {MAXIMUM}')\n",
        "          \n",
        "print(f'The answer is {MAXIMUM} is the maximum number of {list_EX}')"
      ],
      "execution_count": 52,
      "outputs": [
        {
          "output_type": "stream",
          "text": [
            "-4>-1000000000 UPDATE!, now maximum is -4\n",
            "-1>-4 UPDATE!, now maximum is -1\n",
            "-9<-1 NOT UPDATE!, now maximum is -1\n",
            "8>-1 UPDATE!, now maximum is 8\n",
            "11>8 UPDATE!, now maximum is 11\n",
            "The answer is 11 is the maximum number of [-4, -1, -9, 8, 11]\n"
          ],
          "name": "stdout"
        }
      ]
    },
    {
      "cell_type": "markdown",
      "metadata": {
        "id": "AibMxrYVkg2V",
        "colab_type": "text"
      },
      "source": [
        "มี in put เรียกว่า in_list"
      ]
    },
    {
      "cell_type": "code",
      "metadata": {
        "id": "KyuRpJiykVQN",
        "colab_type": "code",
        "colab": {}
      },
      "source": [
        "def find_max(in_list):\n",
        "      MAXIMUM = -1000000000\n",
        "      for i in list_EX:\n",
        "          if i > MAXIMUM:\n",
        "              print (f'{i}>{MAXIMUM} UPDATE!,',end=' ')\n",
        "              MAXIMUM = i\n",
        "              print(f'now maximum is {MAXIMUM}')\n",
        "          else:\n",
        "              print(f'{i}<{MAXIMUM} NOT UPDATE!, now maximum is {MAXIMUM}')\n",
        "\n",
        "      print(f'The answer is {MAXIMUM} is the maximum number of {in_list}')\n",
        "      return MAXIMUM"
      ],
      "execution_count": 58,
      "outputs": []
    },
    {
      "cell_type": "code",
      "metadata": {
        "id": "ozRKgUpYnfTZ",
        "colab_type": "code",
        "colab": {
          "base_uri": "https://localhost:8080/",
          "height": 121
        },
        "outputId": "e9ba6940-e1b8-452f-816f-cb4051edeb06"
      },
      "source": [
        "a = find_max([12,1666,912312,-2,77])"
      ],
      "execution_count": 61,
      "outputs": [
        {
          "output_type": "stream",
          "text": [
            "-4>-1000000000 UPDATE!, now maximum is -4\n",
            "-1>-4 UPDATE!, now maximum is -1\n",
            "-9<-1 NOT UPDATE!, now maximum is -1\n",
            "8>-1 UPDATE!, now maximum is 8\n",
            "11>8 UPDATE!, now maximum is 11\n",
            "The answer is 11 is the maximum number of [12, 1666, 912312, -2, 77]\n"
          ],
          "name": "stdout"
        }
      ]
    },
    {
      "cell_type": "code",
      "metadata": {
        "id": "yVJUYhRFoKYS",
        "colab_type": "code",
        "colab": {
          "base_uri": "https://localhost:8080/",
          "height": 35
        },
        "outputId": "8a51b5f7-fd0a-443c-e94f-76bc6ffc29a6"
      },
      "source": [
        "a"
      ],
      "execution_count": 62,
      "outputs": [
        {
          "output_type": "execute_result",
          "data": {
            "text/plain": [
              "11"
            ]
          },
          "metadata": {
            "tags": []
          },
          "execution_count": 62
        }
      ]
    },
    {
      "cell_type": "markdown",
      "metadata": {
        "id": "WzuwoNrNirA2",
        "colab_type": "text"
      },
      "source": [
        "#HW\n",
        "\n",
        "เรียงลำดับค่าใน list_EX =[-4, -1, -9, 8, 11] จากค่ามากที่สุดไปคาสน้อยที่สุด โดยไม่ใช้ฟังก์ชัน sort()"
      ]
    },
    {
      "cell_type": "code",
      "metadata": {
        "id": "3v8ect9rifaF",
        "colab_type": "code",
        "colab": {}
      },
      "source": [
        ""
      ],
      "execution_count": null,
      "outputs": []
    },
    {
      "cell_type": "markdown",
      "metadata": {
        "id": "UvoeCymrjsic",
        "colab_type": "text"
      },
      "source": [
        "#Function()"
      ]
    },
    {
      "cell_type": "code",
      "metadata": {
        "id": "06J0xpPJifYp",
        "colab_type": "code",
        "colab": {}
      },
      "source": [
        ""
      ],
      "execution_count": null,
      "outputs": []
    },
    {
      "cell_type": "code",
      "metadata": {
        "id": "KGI2i8c2ifPI",
        "colab_type": "code",
        "colab": {}
      },
      "source": [
        ""
      ],
      "execution_count": null,
      "outputs": []
    },
    {
      "cell_type": "markdown",
      "metadata": {
        "id": "gku3H-XVie3b",
        "colab_type": "text"
      },
      "source": [
        ""
      ]
    },
    {
      "cell_type": "markdown",
      "metadata": {
        "id": "A6vbDZPgieU3",
        "colab_type": "text"
      },
      "source": [
        ""
      ]
    }
  ]
}