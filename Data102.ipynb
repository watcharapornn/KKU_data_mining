{
  "nbformat": 4,
  "nbformat_minor": 0,
  "metadata": {
    "colab": {
      "name": "ยินดีต้อนรับสู่ Colaboratory",
      "provenance": [],
      "collapsed_sections": [],
      "toc_visible": true,
      "include_colab_link": true
    },
    "kernelspec": {
      "display_name": "Python 3",
      "name": "python3"
    }
  },
  "cells": [
    {
      "cell_type": "markdown",
      "metadata": {
        "id": "view-in-github",
        "colab_type": "text"
      },
      "source": [
        "<a href=\"https://colab.research.google.com/github/watcharapornn/KKU_data_mining/blob/master/Data102.ipynb\" target=\"_parent\"><img src=\"https://colab.research.google.com/assets/colab-badge.svg\" alt=\"Open In Colab\"/></a>"
      ]
    },
    {
      "cell_type": "markdown",
      "metadata": {
        "colab_type": "text",
        "id": "5fCEDCU_qrC0"
      },
      "source": [
        "<p><img alt=\"Colaboratory logo\" height=\"45px\" src=\"/img/colab_favicon.ico\" align=\"left\" hspace=\"10px\" vspace=\"0px\"></p>\n",
        "\n",
        "<h1>Colaboratory คืออะไร</h1>\n",
        "\n",
        "Colaboratory หรือที่เรียกสั้นๆ ว่า \"Colab\" ให้คุณเขียนและเรียกใช้ Python ในเบราว์เซอร์กับการดำเนินการต่อไปนี้ได้ \n",
        "- ไม่ต้องทำการกำหนดค่าใดๆ\n",
        "- เข้าถึง GPU ได้โดยไม่มีค่าใช้จ่าย\n",
        "- การแชร์ที่ทำได้ง่ายๆ\n",
        "\n",
        "ไม่ว่าคุณจะเป็น<strong>นักเรียน/นักศึกษา</strong> <strong>นักวิทยาศาสตร์ข้อมูล</strong> หรือ<strong>นักวิจัย AI</strong> ระบบของ Colab จะช่วยให้งานของคุณง่ายขึ้นได้ รับชม<a href=\"https://www.youtube.com/watch?v=inN8seMm7UI\">ข้อมูลเบื้องต้นเกี่ยวกับ Colab</a> เพื่อเรียนรู้เพิ่มเติม หรือจะเริ่มต้นใช้งานที่ด้านล่างเลยก็ได้"
      ]
    },
    {
      "cell_type": "markdown",
      "metadata": {
        "colab_type": "text",
        "id": "GJBs_flRovLc"
      },
      "source": [
        "## <strong>เริ่มต้นใช้งาน</strong>\n",
        "\n",
        "เอกสารที่คุณกำลังอ่านไม่ใช่หน้าเว็บแบบคงที่ แต่เป็นสภาพแวดล้อมแบบอินเทอร์แอกทีฟที่เรียกว่า<strong>สมุดบันทึก Colab</strong> ซึ่งให้คุณเขียนและเรียกใช้โค้ดได้\n",
        "\n",
        "ลองดูตัวอย่างนี้ นี่คือ<strong>เซลล์โค้ด</strong>ที่มีสคริปต์ Python สั้นๆ ซึ่งจะคำนวณค่าค่าหนึ่ง เก็บไว้ในตัวแปร แล้วพิมพ์ผลลัพธ์ออกมา"
      ]
    },
    {
      "cell_type": "code",
      "metadata": {
        "colab_type": "code",
        "id": "gJr_9dXGpJ05",
        "colab": {
          "base_uri": "https://localhost:8080/",
          "height": 34
        },
        "outputId": "9f556d03-ec67-4950-a485-cfdba9ddd14d"
      },
      "source": [
        "seconds_in_a_day = 24 * 60 * 60\n",
        "seconds_in_a_day"
      ],
      "execution_count": null,
      "outputs": [
        {
          "output_type": "execute_result",
          "data": {
            "text/plain": [
              "86400"
            ]
          },
          "metadata": {
            "tags": []
          },
          "execution_count": 0
        }
      ]
    },
    {
      "cell_type": "markdown",
      "metadata": {
        "colab_type": "text",
        "id": "2fhs6GZ4qFMx"
      },
      "source": [
        "หากต้องการเรียกใช้โค้ดในเซลล์ด้านบน ให้คลิกเพื่อเลือกโค้ดนั้น และกดปุ่มเล่นทางด้านซ้ายของโค้ด หรือจะใช้แป้นพิมพ์ลัด \"Command/Ctrl+Enter\" ก็ได้ หากต้องการแก้ไขโค้ด ก็เพียงคลิกเซลล์และเริ่มแก้ไขได้เลย\n",
        "\n",
        "ตัวแปรที่คุณกำหนดในเซลล์หนึ่งจะใช้ในเซลล์อื่นในภายหลังได้"
      ]
    },
    {
      "cell_type": "code",
      "metadata": {
        "colab_type": "code",
        "id": "-gE-Ez1qtyIA",
        "colab": {
          "base_uri": "https://localhost:8080/",
          "height": 34
        },
        "outputId": "94cb2224-0edf-457b-90b5-0ac3488d8a97"
      },
      "source": [
        "seconds_in_a_week = 7 * seconds_in_a_day\n",
        "seconds_in_a_week"
      ],
      "execution_count": null,
      "outputs": [
        {
          "output_type": "execute_result",
          "data": {
            "text/plain": [
              "604800"
            ]
          },
          "metadata": {
            "tags": []
          },
          "execution_count": 0
        }
      ]
    },
    {
      "cell_type": "markdown",
      "metadata": {
        "colab_type": "text",
        "id": "lSrWNr3MuFUS"
      },
      "source": [
        "สมุดบันทึก Colab ให้คุณรวม<strong>โค้ดสั่งการ</strong>และ <strong>Rich Text</strong> ลงในเอกสารเดียว ควบคู่ไปกับ<strong>รูปภาพ</strong>, <strong>HTML</strong>, <strong>LaTeX</strong> และอื่นๆ ได้ เมื่อคุณสร้างสมุดบันทึก Colab ของตัวเอง สมุดบันทึกเหล่านั้นจะจัดเก็บอยู่ในบัญชี Google ไดรฟ์ และจะแชร์สมุดบันทึก Colab กับเพื่อนหรือเพื่อนร่วมงานได้ง่ายๆ โดยอนุญาตให้บุคคลดังกล่าวแสดงความคิดเห็นหรือแก้ไขสมุดบันทึกของคุณ ดูข้อมูลเพิ่มเติมได้ใน<a href=\"/notebooks/basic_features_overview.ipynb\">ภาพรวมของ Colab</a> หากต้องการสร้างสมุดบันทึก Colab เล่มใหม่ คุณจะใช้เมนู \"ไฟล์\" ด้านบน หรือทำผ่านลิงก์<a href=\"http://colab.research.google.com#create=true\">สร้างสมุดบันทึก Colab เล่มใหม่</a>ก็ได้\n",
        "\n",
        "สมุดบันทึก Colab คือสมุดบันทึก Jupyter ที่โฮสต์ไว้กับ Colab ดูข้อมูลเพิ่มเติมเกี่ยวกับโปรเจ็กต์ Jupyter ได้ที่ <a href=\"https://www.jupyter.org\">jupyter.org</a>"
      ]
    },
    {
      "cell_type": "markdown",
      "metadata": {
        "colab_type": "text",
        "id": "UdRyKR44dcNI"
      },
      "source": [
        "## วิทยาศาสตร์ข้อมูล\n",
        "\n",
        "Colab ให้คุณใช้ประโยชน์จากไลบรารี Python ที่ได้รับความนิยมได้อย่างเต็มศักยภาพ เพื่อวิเคราะห์และแสดงข้อมูลเป็นภาพ เซลล์โค้ดด้านล่างใช้ <strong>numpy</strong> เพื่อสร้างข้อมูลสุ่มขึ้นมา และใช้ <strong>matplotlib</strong> เพื่อแสดงข้อมูลนั้นเป็นภาพ หากต้องการแก้ไขโค้ด ก็เพียงคลิกเซลล์และเริ่มแก้ไขได้เลย"
      ]
    },
    {
      "cell_type": "code",
      "metadata": {
        "colab_type": "code",
        "id": "C4HZx7Gndbrh",
        "colab": {
          "base_uri": "https://localhost:8080/",
          "height": 281
        },
        "outputId": "46abc637-6abd-41b2-9bba-80a7ae992e06"
      },
      "source": [
        "import numpy as np\n",
        "from matplotlib import pyplot as plt\n",
        "\n",
        "ys = 200 + np.random.randn(100)\n",
        "x = [x for x in range(len(ys))]\n",
        "\n",
        "plt.plot(x, ys, '-')\n",
        "plt.fill_between(x, ys, 195, where=(ys > 195), facecolor='g', alpha=0.6)\n",
        "\n",
        "plt.title(\"Sample Visualization\")\n",
        "plt.show()"
      ],
      "execution_count": null,
      "outputs": [
        {
          "output_type": "display_data",
          "data": {
            "image/png": "[encoded data removed]",
            "text/plain": [
              "<Figure size 432x288 with 1 Axes>"
            ]
          },
          "metadata": {
            "tags": []
          }
        }
      ]
    },
    {
      "cell_type": "markdown",
      "metadata": {
        "colab_type": "text",
        "id": "4_kCnsPUqS6o"
      },
      "source": [
        "คุณนำเข้าข้อมูลของตนเองลงในสมุดบันทึก Colab จากบัญชี Google ไดรฟ์ได้ รวมถึงจากสเปรดชีต, GitHub และแหล่งข้อมูลอื่นๆ อีกมากมาย ดูข้อมูลเพิ่มเติมเกี่ยวกับการนำเข้าข้อมูลและการใช้ Colab ทางด้านวิทยาศาสตร์ข้อมูลได้จากลิงก์ด้านล่างในส่วน<a href=\"#working-with-data\">การทำงานกับข้อมูล</a>"
      ]
    },
    {
      "cell_type": "markdown",
      "metadata": {
        "colab_type": "text",
        "id": "OwuxHmxllTwN"
      },
      "source": [
        "## แมชชีนเลิร์นนิง\n",
        "\n",
        "Colab ให้คุณนำเข้าชุดข้อมูลรูปภาพ ฝึกการทำงานของตัวแยกประเภทรูปภาพกับชุดข้อมูลนั้น แล้วประเมินโมเดล โดยทั้งหมดนี้ใช้<a href=\"https://colab.research.google.com/github/tensorflow/docs/blob/master/site/en/tutorials/quickstart/beginner.ipynb\">โค้ดเพียงไม่กี่บรรทัด</a>เท่านั้น สมุดบันทึก Colab เรียกใช้โค้ดในเซิร์ฟเวอร์ระบบคลาวด์ของ Google ซึ่งหมายความว่าคุณจะใช้ประโยชน์จากประสิทธิภาพของฮาร์ดแวร์ Google รวมถึง <a href=\"#using-accelerated-hardware\">GPU และ TPU</a> โดยไม่ต้องคำนึงถึงสมรรถภาพของคอมพิวเตอร์ตัวเองเลย ใช้แค่เบราว์เซอร์เท่านั้น"
      ]
    },
    {
      "cell_type": "markdown",
      "metadata": {
        "colab_type": "text",
        "id": "ufxBm1yRnruN"
      },
      "source": [
        "ชุมชนแมชชีนเลิร์นนิงมีการประยุกต์ใช้ Colab อย่างกว้างขวางในงานต่างๆ เช่น\n",
        "- การเริ่มต้นใช้งาน TensorFlow\n",
        "- การพัฒนาและการฝึกโครงข่ายระบบประสาทเทียม\n",
        "- การทดสอบกับ TPU\n",
        "- การเผยแพร่งานวิจัย AI\n",
        "- การสร้างบทแนะนำ\n",
        "\n",
        "ดูตัวอย่างสมุดบันทึก Colab ที่สาธิตการประยุกต์ใช้แมชชีนเลิร์นนิงได้ใน<a href=\"#machine-learning-examples\">ตัวอย่างแมชชีนเลิร์นนิง</a>ด้านล่าง"
      ]
    },
    {
      "cell_type": "markdown",
      "metadata": {
        "colab_type": "text",
        "id": "-Rh3-Vt9Nev9"
      },
      "source": [
        "## แหล่งข้อมูลเพิ่มเติม\n",
        "\n",
        "### การทำงานกับสมุดบันทึกใน Colab\n",
        "- [ภาพรวมของ Colaboratory](/notebooks/basic_features_overview.ipynb)\n",
        "- [ข้อมูลเบื้องต้นเกี่ยวกับ Markdown](/notebooks/markdown_guide.ipynb)\n",
        "- [การนำเข้าไลบรารีและการติดตั้งทรัพยากร Dependency](/notebooks/snippets/importing_libraries.ipynb)\n",
        "- [การบันทึกและการโหลดสมุดบันทึกใน GitHub](https://colab.research.google.com/github/googlecolab/colabtools/blob/master/notebooks/colab-github-demo.ipynb)\n",
        "- [ฟอร์มแบบอินเทอร์แอกทีฟ](/notebooks/forms.ipynb)\n",
        "- [วิดเจ็ตแบบอินเทอร์แอกทีฟ](/notebooks/widgets.ipynb)\n",
        "- <img src=\"/img/new.png\" height=\"20px\" align=\"left\" hspace=\"4px\" alt=\"New\"></img>\n",
        " [TensorFlow 2 ใน Colab](/notebooks/tensorflow_version.ipynb)\n",
        "\n",
        "<a name=\"working-with-data\"></a>\n",
        "### การทำงานกับข้อมูล\n",
        "- [การโหลดข้อมูล: ไดรฟ์ ชีต และ Google Cloud Storage](/notebooks/io.ipynb) \n",
        "- [แผนภูมิ: การแสดงข้อมูลเป็นภาพ](/notebooks/charts.ipynb)\n",
        "- [การเริ่มต้นใช้งาน BigQuery](/notebooks/bigquery.ipynb)\n",
        "\n",
        "### หลักสูตรเร่งรัดเกี่ยวกับแมชชีนเลิร์นนิง\n",
        "นี่คือสมุดบันทึกบางส่วนจากหลักสูตรแมชชีนเลิร์นนิงออนไลน์ของ Google ดูเพิ่มเติมได้ใน<a href=\"https://developers.google.com/machine-learning/crash-course/\">เว็บไซต์การเรียนรู้แบบเต็มหลักสูตร</a>\n",
        "- [แนะนำ Pandas](/notebooks/mlcc/intro_to_pandas.ipynb)\n",
        "- [แนวคิดของ Tensorflow](/notebooks/mlcc/tensorflow_programming_concepts.ipynb)\n",
        "- [การใช้ TensorFlow โดยเบื้องต้น](/notebooks/mlcc/first_steps_with_tensor_flow.ipynb)\n",
        "- [แนะนำโครงข่ายประสาท](/notebooks/mlcc/intro_to_neural_nets.ipynb)\n",
        "- [แนะนำการขาดแคลนข้อมูลและการฝัง](/notebooks/mlcc/intro_to_sparse_data_and_embeddings.ipynb)\n",
        "\n",
        "<a name=\"using-accelerated-hardware\"></a>\n",
        "### การใช้ฮาร์ดแวร์ที่มีการเร่ง\n",
        "- [TensorFlow กับ GPU](/notebooks/gpu.ipynb)\n",
        "- [TensorFlow กับ TPU](/notebooks/tpu.ipynb)"
      ]
    },
    {
      "cell_type": "markdown",
      "metadata": {
        "colab_type": "text",
        "id": "P-H6Lw1vyNNd"
      },
      "source": [
        "<a name=\"machine-learning-examples\"></a>\n",
        "\n",
        "## ตัวอย่างแมชชีนเลิร์นนิง\n",
        "\n",
        "ดูตัวอย่างแบบปลายทางถึงปลายทางของการวิเคราะห์แมชชีนเลิร์นนิงแบบอินเทอร์แอกทีฟที่ Colaboratory ทำให้เป็นจริงได้ในบทแนะนำเหล่านี้โดยใช้โมเดลจาก <a href=\"https://tfhub.dev\">TensorFlow Hub</a>\n",
        "\n",
        "ตัวอย่างที่โดดเด่น\n",
        "\n",
        "- <a href=\"https://tensorflow.org/hub/tutorials/tf2_image_retraining\">การฝึกตัวแยกประเภทรูปภาพใหม่</a>: สร้างโมเดล Keras เพิ่มเติมจากตัวแยกประเภทรูปภาพที่ฝึกไว้ล่วงหน้าเพื่อแยกแยะดอกไม้ชนิดต่างๆ\n",
        "- <a href=\"https://tensorflow.org/hub/tutorials/tf2_text_classification\">การจัดประเภทข้อความ</a>: จัดประเภทรีวิวภาพยนตร์ใน IMDB ว่าเป็น<em>เชิงบวก</em>หรือ<em>เชิงลบ</em>\n",
        "- <a href=\"https://tensorflow.org/hub/tutorials/tf2_arbitrary_image_stylization\">การโอนรูปแบบ</a>: ใช้การเรียนรู้เชิงลึกเพื่อโอนรูปแบบระหว่างรูปภาพ\n",
        "- <a href=\"https://tensorflow.org/hub/tutorials/retrieval_with_tf_hub_universal_encoder_qa\">การถามและตอบของ Universal Sentence Encoder แบบหลายภาษา</a>: ใช้โมเดลแมชชีนเลิร์นนิงเพื่อตอบคำถามจากชุดข้อมูล SQuAD\n",
        "- <a href=\"https://tensorflow.org/hub/tutorials/tweening_conv3d\">ชนิดการประมาณค่าในช่วงวิดีโอ</a>: คาดการณ์สิ่งที่เกิดขึ้นในวิดีโอระหว่างเฟรมแรกกับเฟรมสุดท้าย\n"
      ]
    },
    {
      "cell_type": "code",
      "metadata": {
        "id": "Xx8l4rm_lg-E",
        "colab_type": "code",
        "colab": {
          "base_uri": "https://localhost:8080/",
          "height": 122
        },
        "outputId": "4b4c0244-c9e9-4c75-dfa5-b7cfdc07474e"
      },
      "source": [
        "from google.colab import drive\n",
        "drive.mount('/content/drive')"
      ],
      "execution_count": 1,
      "outputs": [
        {
          "output_type": "stream",
          "text": [
            "Go to this URL in a browser: https://accounts.google.com/o/oauth2/auth?client_id=947318989803-6bn6qk8qdgf4n4g3pfee6491hc0brc4i.apps.googleusercontent.com&redirect_uri=urn%3aietf%3awg%3aoauth%3a2.0%3aoob&scope=email%20https%3a%2f%2fwww.googleapis.com%2fauth%2fdocs.test%20https%3a%2f%2fwww.googleapis.com%2fauth%2fdrive%20https%3a%2f%2fwww.googleapis.com%2fauth%2fdrive.photos.readonly%20https%3a%2f%2fwww.googleapis.com%2fauth%2fpeopleapi.readonly&response_type=code\n",
            "\n",
            "Enter your authorization code:\n",
            "··········\n",
            "Mounted at /content/drive\n"
          ],
          "name": "stdout"
        }
      ]
    },
    {
      "cell_type": "code",
      "metadata": {
        "id": "EbuTZ79llg5B",
        "colab_type": "code",
        "colab": {
          "base_uri": "https://localhost:8080/",
          "height": 204
        },
        "outputId": "1a3b965a-4282-43c2-f311-daa78a4fb167"
      },
      "source": [
        "import os\n",
        "import pandas as pd\n",
        "base_path = '/content/drive/My Drive/DWDM_material'\n",
        "data = pd.read_csv(os.path.join(base_path,'test.csv'))\n",
        "data.head()"
      ],
      "execution_count": 2,
      "outputs": [
        {
          "output_type": "execute_result",
          "data": {
            "text/html": [
              "<div>\n",
              "<style scoped>\n",
              "    .dataframe tbody tr th:only-of-type {\n",
              "        vertical-align: middle;\n",
              "    }\n",
              "\n",
              "    .dataframe tbody tr th {\n",
              "        vertical-align: top;\n",
              "    }\n",
              "\n",
              "    .dataframe thead th {\n",
              "        text-align: right;\n",
              "    }\n",
              "</style>\n",
              "<table border=\"1\" class=\"dataframe\">\n",
              "  <thead>\n",
              "    <tr style=\"text-align: right;\">\n",
              "      <th></th>\n",
              "      <th>Unnamed: 0</th>\n",
              "      <th>x</th>\n",
              "      <th>y</th>\n",
              "    </tr>\n",
              "  </thead>\n",
              "  <tbody>\n",
              "    <tr>\n",
              "      <th>0</th>\n",
              "      <td>0</td>\n",
              "      <td>55.3846</td>\n",
              "      <td>97.1795</td>\n",
              "    </tr>\n",
              "    <tr>\n",
              "      <th>1</th>\n",
              "      <td>1</td>\n",
              "      <td>51.5385</td>\n",
              "      <td>96.0256</td>\n",
              "    </tr>\n",
              "    <tr>\n",
              "      <th>2</th>\n",
              "      <td>2</td>\n",
              "      <td>46.1538</td>\n",
              "      <td>94.4872</td>\n",
              "    </tr>\n",
              "    <tr>\n",
              "      <th>3</th>\n",
              "      <td>3</td>\n",
              "      <td>42.8205</td>\n",
              "      <td>91.4103</td>\n",
              "    </tr>\n",
              "    <tr>\n",
              "      <th>4</th>\n",
              "      <td>4</td>\n",
              "      <td>40.7692</td>\n",
              "      <td>88.3333</td>\n",
              "    </tr>\n",
              "  </tbody>\n",
              "</table>\n",
              "</div>"
            ],
            "text/plain": [
              "   Unnamed: 0        x        y\n",
              "0           0  55.3846  97.1795\n",
              "1           1  51.5385  96.0256\n",
              "2           2  46.1538  94.4872\n",
              "3           3  42.8205  91.4103\n",
              "4           4  40.7692  88.3333"
            ]
          },
          "metadata": {
            "tags": []
          },
          "execution_count": 2
        }
      ]
    },
    {
      "cell_type": "markdown",
      "metadata": {
        "id": "SrEnadXfqBXi",
        "colab_type": "text"
      },
      "source": [
        "#Boxplot"
      ]
    },
    {
      "cell_type": "code",
      "metadata": {
        "id": "4CI_hFPOlg08",
        "colab_type": "code",
        "colab": {}
      },
      "source": [
        "from matplotlib import pyplot as pit"
      ],
      "execution_count": 4,
      "outputs": []
    },
    {
      "cell_type": "code",
      "metadata": {
        "id": "21C0OrF1lgx5",
        "colab_type": "code",
        "colab": {
          "base_uri": "https://localhost:8080/",
          "height": 401
        },
        "outputId": "6f8e2823-f83c-4aea-8d31-cf282769578e"
      },
      "source": [
        "pit.boxplot(data['y'])"
      ],
      "execution_count": 5,
      "outputs": [
        {
          "output_type": "execute_result",
          "data": {
            "text/plain": [
              "{'boxes': [<matplotlib.lines.Line2D at 0x7f5da316e550>],\n",
              " 'caps': [<matplotlib.lines.Line2D at 0x7f5da316ef60>,\n",
              "  <matplotlib.lines.Line2D at 0x7f5da3105320>],\n",
              " 'fliers': [<matplotlib.lines.Line2D at 0x7f5da3105a20>],\n",
              " 'means': [],\n",
              " 'medians': [<matplotlib.lines.Line2D at 0x7f5da31056a0>],\n",
              " 'whiskers': [<matplotlib.lines.Line2D at 0x7f5da316e860>,\n",
              "  <matplotlib.lines.Line2D at 0x7f5da316ebe0>]}"
            ]
          },
          "metadata": {
            "tags": []
          },
          "execution_count": 5
        },
        {
          "output_type": "display_data",
          "data": {
            "image/png": "[encoded data removed]",
            "text/plain": [
              "<Figure size 432x288 with 1 Axes>"
            ]
          },
          "metadata": {
            "tags": [],
            "needs_background": "light"
          }
        }
      ]
    },
    {
      "cell_type": "code",
      "metadata": {
        "id": "fKca8Jpwlgup",
        "colab_type": "code",
        "colab": {
          "base_uri": "https://localhost:8080/",
          "height": 401
        },
        "outputId": "e565da9f-1538-40ba-dcdf-d6815e494104"
      },
      "source": [
        "pit.boxplot(data['x'],vert=False,whis=1.2)"
      ],
      "execution_count": 7,
      "outputs": [
        {
          "output_type": "execute_result",
          "data": {
            "text/plain": [
              "{'boxes': [<matplotlib.lines.Line2D at 0x7f5da2c42978>],\n",
              " 'caps': [<matplotlib.lines.Line2D at 0x7f5da2c4f3c8>,\n",
              "  <matplotlib.lines.Line2D at 0x7f5da2c4f748>],\n",
              " 'fliers': [<matplotlib.lines.Line2D at 0x7f5da2c4fe48>],\n",
              " 'means': [],\n",
              " 'medians': [<matplotlib.lines.Line2D at 0x7f5da2c4fac8>],\n",
              " 'whiskers': [<matplotlib.lines.Line2D at 0x7f5da2c42c88>,\n",
              "  <matplotlib.lines.Line2D at 0x7f5da2c4f048>]}"
            ]
          },
          "metadata": {
            "tags": []
          },
          "execution_count": 7
        },
        {
          "output_type": "display_data",
          "data": {
            "image/png": "[encoded data removed]",
            "text/plain": [
              "<Figure size 432x288 with 1 Axes>"
            ]
          },
          "metadata": {
            "tags": [],
            "needs_background": "light"
          }
        }
      ]
    },
    {
      "cell_type": "code",
      "metadata": {
        "id": "dA7zw5d0wMlD",
        "colab_type": "code",
        "colab": {
          "base_uri": "https://localhost:8080/",
          "height": 265
        },
        "outputId": "982beef5-b759-4377-889d-586eb7d8836a"
      },
      "source": [
        "oput = pit.boxplot(data['x'],vert=False,whis=1.2)"
      ],
      "execution_count": 9,
      "outputs": [
        {
          "output_type": "display_data",
          "data": {
            "image/png": "[encoded data removed]",
            "text/plain": [
              "<Figure size 432x288 with 1 Axes>"
            ]
          },
          "metadata": {
            "tags": [],
            "needs_background": "light"
          }
        }
      ]
    },
    {
      "cell_type": "markdown",
      "metadata": {
        "id": "0A_-qzUnvXH6",
        "colab_type": "text"
      },
      "source": [
        "ใช้แสดงค่า oitliner ถ้าอยากได้ค่าของอะไรให้ใส่ใน[]ตามด้วย.get_xdata()"
      ]
    },
    {
      "cell_type": "code",
      "metadata": {
        "id": "HYVWQR62lgrh",
        "colab_type": "code",
        "colab": {
          "base_uri": "https://localhost:8080/",
          "height": 34
        },
        "outputId": "d9af7f8a-f5c6-4a0a-a4f4-da2fcf491904"
      },
      "source": [
        "oput['fliers'][0].get_xdata()"
      ],
      "execution_count": 10,
      "outputs": [
        {
          "output_type": "execute_result",
          "data": {
            "text/plain": [
              "array([93.3333, 95.3846, 98.2051, 91.2821])"
            ]
          },
          "metadata": {
            "tags": []
          },
          "execution_count": 10
        }
      ]
    },
    {
      "cell_type": "code",
      "metadata": {
        "id": "Gp-p6Tqmlghc",
        "colab_type": "code",
        "colab": {
          "base_uri": "https://localhost:8080/",
          "height": 34
        },
        "outputId": "8cef818c-76da-4592-f910-0ab46a1c9cb7"
      },
      "source": [
        "oput['whiskers'][0].get_xdata()"
      ],
      "execution_count": 11,
      "outputs": [
        {
          "output_type": "execute_result",
          "data": {
            "text/plain": [
              "array([44.1026, 22.3077])"
            ]
          },
          "metadata": {
            "tags": []
          },
          "execution_count": 11
        }
      ]
    },
    {
      "cell_type": "code",
      "metadata": {
        "id": "qI3qxT8ew7ob",
        "colab_type": "code",
        "colab": {
          "base_uri": "https://localhost:8080/",
          "height": 34
        },
        "outputId": "b2812c5c-444c-4fb1-92ad-14d2c48617d5"
      },
      "source": [
        "oput['whiskers'][1].get_xdata()"
      ],
      "execution_count": 12,
      "outputs": [
        {
          "output_type": "execute_result",
          "data": {
            "text/plain": [
              "array([64.7436, 89.4872])"
            ]
          },
          "metadata": {
            "tags": []
          },
          "execution_count": 12
        }
      ]
    },
    {
      "cell_type": "code",
      "metadata": {
        "id": "g0l8xVXH1G90",
        "colab_type": "code",
        "colab": {
          "base_uri": "https://localhost:8080/",
          "height": 164
        },
        "outputId": "7d1f1395-3cca-45ec-c279-dc4f4aac3813"
      },
      "source": [
        "plt.scatter(data['x'],data['y'])"
      ],
      "execution_count": 15,
      "outputs": [
        {
          "output_type": "error",
          "ename": "NameError",
          "evalue": "ignored",
          "traceback": [
            "\u001b[0;31m---------------------------------------------------------------------------\u001b[0m",
            "\u001b[0;31mNameError\u001b[0m                                 Traceback (most recent call last)",
            "\u001b[0;32m<ipython-input-15-51c641cf8f12>\u001b[0m in \u001b[0;36m<module>\u001b[0;34m()\u001b[0m\n\u001b[0;32m----> 1\u001b[0;31m \u001b[0mplt\u001b[0m\u001b[0;34m.\u001b[0m\u001b[0mscatter\u001b[0m\u001b[0;34m(\u001b[0m\u001b[0mdata\u001b[0m\u001b[0;34m[\u001b[0m\u001b[0;34m'x'\u001b[0m\u001b[0;34m]\u001b[0m\u001b[0;34m,\u001b[0m\u001b[0mdata\u001b[0m\u001b[0;34m[\u001b[0m\u001b[0;34m'y'\u001b[0m\u001b[0;34m]\u001b[0m\u001b[0;34m)\u001b[0m\u001b[0;34m\u001b[0m\u001b[0;34m\u001b[0m\u001b[0m\n\u001b[0m",
            "\u001b[0;31mNameError\u001b[0m: name 'plt' is not defined"
          ]
        }
      ]
    },
    {
      "cell_type": "code",
      "metadata": {
        "id": "tLiC170mw7U7",
        "colab_type": "code",
        "colab": {
          "base_uri": "https://localhost:8080/",
          "height": 164
        },
        "outputId": "f0c6442a-a6f7-4670-8e6f-fb56b20cb50d"
      },
      "source": [
        "plt.scatter(data['x'],data['y'],s=25)"
      ],
      "execution_count": 16,
      "outputs": [
        {
          "output_type": "error",
          "ename": "NameError",
          "evalue": "ignored",
          "traceback": [
            "\u001b[0;31m---------------------------------------------------------------------------\u001b[0m",
            "\u001b[0;31mNameError\u001b[0m                                 Traceback (most recent call last)",
            "\u001b[0;32m<ipython-input-16-80a6b623d5f7>\u001b[0m in \u001b[0;36m<module>\u001b[0;34m()\u001b[0m\n\u001b[0;32m----> 1\u001b[0;31m \u001b[0mplt\u001b[0m\u001b[0;34m.\u001b[0m\u001b[0mscatter\u001b[0m\u001b[0;34m(\u001b[0m\u001b[0mdata\u001b[0m\u001b[0;34m[\u001b[0m\u001b[0;34m'x'\u001b[0m\u001b[0;34m]\u001b[0m\u001b[0;34m,\u001b[0m\u001b[0mdata\u001b[0m\u001b[0;34m[\u001b[0m\u001b[0;34m'y'\u001b[0m\u001b[0;34m]\u001b[0m\u001b[0;34m,\u001b[0m\u001b[0ms\u001b[0m\u001b[0;34m=\u001b[0m\u001b[0;36m25\u001b[0m\u001b[0;34m)\u001b[0m\u001b[0;34m\u001b[0m\u001b[0;34m\u001b[0m\u001b[0m\n\u001b[0m",
            "\u001b[0;31mNameError\u001b[0m: name 'plt' is not defined"
          ]
        }
      ]
    },
    {
      "cell_type": "code",
      "metadata": {
        "id": "ww9a7XGJyUER",
        "colab_type": "code",
        "colab": {}
      },
      "source": [
        "plt.scatter(data['x'],data['y'],s=data['y'],c='r')"
      ],
      "execution_count": null,
      "outputs": []
    },
    {
      "cell_type": "code",
      "metadata": {
        "id": "26rlttMKyT-l",
        "colab_type": "code",
        "colab": {}
      },
      "source": [
        "plt.scatter(data['x'],data['y'],s=data['y'],c='c')"
      ],
      "execution_count": null,
      "outputs": []
    },
    {
      "cell_type": "code",
      "metadata": {
        "id": "PvfiVSDgyT39",
        "colab_type": "code",
        "colab": {}
      },
      "source": [
        "plt.scatter(data['x'],data['y'],s=data['y'],c='m')"
      ],
      "execution_count": null,
      "outputs": []
    },
    {
      "cell_type": "code",
      "metadata": {
        "id": "_XpvTowJyn7V",
        "colab_type": "code",
        "colab": {}
      },
      "source": [
        "plt.scatter(data['x'],data['y'],s=data['y'],c='y')"
      ],
      "execution_count": null,
      "outputs": []
    },
    {
      "cell_type": "code",
      "metadata": {
        "id": "QZ7AguqvyTLL",
        "colab_type": "code",
        "colab": {}
      },
      "source": [
        "plt.scatter(data['x'],data['y'],s=data['y'],c='k')"
      ],
      "execution_count": null,
      "outputs": []
    },
    {
      "cell_type": "code",
      "metadata": {
        "id": "t6ZjK4gHzFm7",
        "colab_type": "code",
        "colab": {}
      },
      "source": [
        "plt.scatter(data['x'],data['y'],s=data['y'],c='r',marker='3')"
      ],
      "execution_count": null,
      "outputs": []
    },
    {
      "cell_type": "code",
      "metadata": {
        "id": "-jIGyhFbz44M",
        "colab_type": "code",
        "colab": {}
      },
      "source": [
        "plt.scatter(data['x'],data['y'],s=data['y'],c='r',marker='3',alpha=0.4)\n",
        "plt.scatter([44,42,50],[15,14,80],s=250,alpha=0.6)"
      ],
      "execution_count": null,
      "outputs": []
    },
    {
      "cell_type": "code",
      "metadata": {
        "id": "pEK1xhlP0qIE",
        "colab_type": "code",
        "colab": {}
      },
      "source": [
        ""
      ],
      "execution_count": null,
      "outputs": []
    }
  ]
}